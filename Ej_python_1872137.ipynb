{
  "nbformat": 4,
  "nbformat_minor": 0,
  "metadata": {
    "colab": {
      "name": "Ej_python_1872137.ipynb",
      "provenance": [],
      "authorship_tag": "ABX9TyNfC9Ax5cSs6W0K6/x0pS16",
      "include_colab_link": true
    },
    "kernelspec": {
      "name": "python3",
      "display_name": "Python 3"
    },
    "language_info": {
      "name": "python"
    }
  },
  "cells": [
    {
      "cell_type": "markdown",
      "metadata": {
        "id": "view-in-github",
        "colab_type": "text"
      },
      "source": [
        "<a href=\"https://colab.research.google.com/github/danjamav/FCFM-MinDat/blob/main/Ej_python_1872137.ipynb\" target=\"_parent\"><img src=\"https://colab.research.google.com/assets/colab-badge.svg\" alt=\"Open In Colab\"/></a>"
      ]
    },
    {
      "cell_type": "markdown",
      "metadata": {
        "id": "k170tx15EqOa"
      },
      "source": [
        "EJ 1 Realiza una variable con tu matricula y realiza una secuencia de imprimir con tu nombre y tu matricula concatenados\n",
        "\n"
      ]
    },
    {
      "cell_type": "code",
      "metadata": {
        "id": "p88UPwu4Eq4A"
      },
      "source": [
        "matricula = 1872137 #Matricula \n",
        "print(\"Daniel Martinez\", matricula)  "
      ],
      "execution_count": null,
      "outputs": []
    },
    {
      "cell_type": "markdown",
      "metadata": {
        "id": "LrglsAhxEtTq"
      },
      "source": [
        "EJ 2 Pidiendo el imput del usuario pide dos números y crea una pequeña calculadora con los operadores básicos de suma, resta, multiplicación, división y exponente. Utilizando el loop de while"
      ]
    },
    {
      "cell_type": "code",
      "metadata": {
        "id": "KdT49SfHEwpl"
      },
      "source": [
        "i = 1\n",
        "while i == 1: #aqui empieza el loop\n",
        "  a = int(input(\"introduce un número a: \")) #Pedimos el número a\n",
        "  b = int(input(\"introduce un número b: \")) #Pedimos el número b\n",
        "  print(\"1- Suma 2- Resta 3- Multiplicacion 4- División 5- Exponente \") \n",
        "  c = int(input(\"Elige la opción deseada: \")) \n",
        "  \n",
        "  #Comienza condicional para realizar la operación deseada\n",
        "  if c == 1: \n",
        "    d = a+b\n",
        "    print(\"El resultado de la suma es: \",d)\n",
        "  elif c == 2: \n",
        "    d = a-b\n",
        "    print(\"El resultado de la resta es: \",d)\n",
        "  elif c == 3: \n",
        "    d = a*b\n",
        "    print(\"El resultado de la multiplicación es: \",d)\n",
        "  elif c == 4:\n",
        "    d = a/b\n",
        "    print(\"El resultado de la división es: \",d)\n",
        "  else: \n",
        "    d = a**b\n",
        "    print(\"El resultado de la exponencial es: \",d)\n",
        "  #Fin condicional\n",
        "\n",
        "  print(\"¿Deseas volver a hacer una operacion?\") \n",
        "  print(\"1- Si 2- No\")  \n",
        "  i = int(input(\"Respuesta: \")) "
      ],
      "execution_count": null,
      "outputs": []
    },
    {
      "cell_type": "markdown",
      "metadata": {
        "id": "iN1TEkLJE13_"
      },
      "source": [
        "EJ 3 Con loop while o for, realiza una lista de 10 números multiplos de 3, y después realiza una función de loop que sume todos los números dentro del arreglo"
      ]
    },
    {
      "cell_type": "code",
      "metadata": {
        "id": "ceBVdtb5E4N5"
      },
      "source": [
        "i = 1 \n",
        "list1 = [] \n",
        "\n",
        "while i <= 10: \n",
        "  z = 3*i\n",
        "  list1.append(z)\n",
        "  i = i+1 #Incremento de i\n",
        "\n",
        "i = 0 #Regresamos a i inicial\n",
        "while i < 10: \n",
        "  #Validamos la primer vuelta del loop\n",
        "  if i == 0: \n",
        "    a = list1[0]\n",
        "  else: \n",
        "    a = a + list1[i]\n",
        "  i = i + 1 #Incrementamos i\n",
        "\n",
        "print(\"La suma de los multiplos fue: \",a)"
      ],
      "execution_count": null,
      "outputs": []
    },
    {
      "cell_type": "markdown",
      "metadata": {
        "id": "bCRlQNYTE76L"
      },
      "source": [
        "EJ 4 ->Con una función de if else revisar si un número es par o impar\n",
        "\n",
        "->Con una función de if else revisar si un número es primo o no"
      ]
    },
    {
      "cell_type": "code",
      "metadata": {
        "id": "McNr214gE-4G"
      },
      "source": [
        "a = int(input(\"Número a revisar: \")) \n",
        "\n",
        "z = x%2 #validar que sea par\n",
        "if z == 0: #Condicional de número par\n",
        "  print(a,\"es numero par\")\n",
        "else:\n",
        "  print(a,\"no es numero par\")\n",
        "\n",
        "b=0  \n",
        "for n in range(2,a): \n",
        "  if x%n == 0: #Vemos si el número es primo o no\n",
        "    b= 1 # 1 =  número no primo\n",
        "\n",
        "# imprimir\n",
        "if b == 0:\n",
        "  print(a,\"es un numero primo\")\n",
        "else:\n",
        "  print(a,\"no es un numero primo\")"
      ],
      "execution_count": null,
      "outputs": []
    },
    {
      "cell_type": "markdown",
      "metadata": {
        "id": "H0tw02_OFCfY"
      },
      "source": [
        "Tuplas\n",
        "Crear una variable flotante, integer, boleana y compleja e imprimir el tipo de variable que es. Crear una tupla con valores enteros imprimir el primer y ultimo valor. Añadir 3 valores de string a la tupla. Verificar si una variable existe dentro de la tupla."
      ]
    },
    {
      "cell_type": "code",
      "metadata": {
        "id": "ln_pLDFjFE4O"
      },
      "source": [
        "a = 3\n",
        "b = 3.2\n",
        "c = False\n",
        "d = complex(b,a)\n",
        "\n",
        "#tipo de variable\n",
        "print(\"A es:\",type(a))\n",
        "print(\"B es:\",type(b))\n",
        "print(\"C es:\",type(c))\n",
        "print(\"D es:\",type(d))\n",
        "\n",
        "# Creando la tupla\n",
        "t1 = (1,2,3,4,5)\n",
        "#Imprimiendo el primer y el ultimo valor\n",
        "print(\"Primer valor:\",t1[0])\n",
        "print(\"Último valor:\",t1[-1])\n",
        "\n",
        "#Agregando strings a la tupla\n",
        "t1 = t1.__add__((\"Hola\",\"Mundo\",\"Estrella\"))\n",
        "\n",
        "#Verificando si un valor existe en la dupla\n",
        "a1 = int(input(\"Valor a verificar: \")) #Pedimos el valor\n",
        "#Condicional a1 en la tupla\n",
        "if a1 in t1: \n",
        "  print(\"El valor\",a1,\"si esta en la tupla\")\n",
        "else:\n",
        "  print(\"El valor\",a1,\"no esta en la tupla\")"
      ],
      "execution_count": null,
      "outputs": []
    },
    {
      "cell_type": "markdown",
      "metadata": {
        "id": "_ixn8pU3FJFY"
      },
      "source": [
        "Listas\n",
        "Crear una lista con 40 elementos aleatorios enteros. Con una funcion (def) crear dos listas nuevas a partir de la lista creada por numeros aleatorios, en la cual en una esten los elementos pares, y en la otra los elementos impares. Crear dos variables con la longitud de ambas listas nuevas e imprimir las variables. Ordenar los elementos de la lista par de mayor a menor, y los de la lista impar de menor a mayor. Utilizar al menos cuatro de las funciones de listas en python en la lista original de 40 elementos."
      ]
    },
    {
      "cell_type": "code",
      "metadata": {
        "id": "CsKGJKWuFLGm"
      },
      "source": [
        "#Creación de la lista aleatoria\n",
        "import random #Importamos la biblioteca random https://www.mclibre.org/consultar/python/lecciones/python-biblioteca-random.html\n",
        "list2 =[]\n",
        "for a in range(0,40):\n",
        "  list2.append(random.randrange(10))\n",
        "\n",
        "#Creando las dos listas nuevas https://entrenamiento-python-basico.readthedocs.io/es/latest/leccion5/funciones.html\n",
        "def separacion(s): #Creando la función\n",
        "  pares = [] #lista donde van a ir los pares\n",
        "  impares = [] #lista donde van a ir los impares\n",
        "  for a in s: #validar los pares e impares de la lista\n",
        "    if a%2 == 0: #Condición par\n",
        "      pares.append(a)\n",
        "    else: #Impar\n",
        "      impares.append(a)\n",
        "  print(pares) #Imprimimos  pares\n",
        "  print(impares) #Imprimimos  impares\n",
        "  #Imprimiendo la longitud de las listas nuevas http://elclubdelautodidacta.es/wp/2011/08/python-capitulo-14-el-total-de-elementos-de-una-lista/\n",
        "  b = len(pares)\n",
        "  c = len(impares)\n",
        "  print(\"Longitud lista pares:\",b)\n",
        "  print(\"Longitud lista impares:\",c)  \n",
        "  #Acomodando los valores de las listas https://j2logo.com/python/ordenar-una-lista-en-python/\n",
        "  pares1 = sorted(pares, reverse=True)\n",
        "  impares1 = sorted(impares)\n",
        "  print(pares1)\n",
        "  print(impares1)\n",
        "\n",
        "separacion(list2)\n",
        "#Utilizando funciones de lista en la lista original\n",
        "list2.append(3)\n",
        "list2.reverse()\n",
        "list2.pop()\n",
        "list2.sort()"
      ],
      "execution_count": null,
      "outputs": []
    },
    {
      "cell_type": "markdown",
      "metadata": {
        "id": "WYmy8-iEFPJD"
      },
      "source": [
        "Diccionarios\n",
        "Crear un diccionario de 6 personas que conozcas con su primer nombre y su edad. Crear una lista con los valores de la edad y reacomodar la lista de menor a mayor valor. Usando el diccionario y un loop, imprimir solo los nombres. Añadir dos personas nuevas a tu diccionario, incluyendo edad."
      ]
    },
    {
      "cell_type": "code",
      "metadata": {
        "id": "t66jTQ4rFTbB"
      },
      "source": [
        "#Creando el diccionario\n",
        "dict1 = {'Daniel' : 20, 'Juan' : 32, 'Edgar' : 32, 'Jose' : 33, 'Hania' : 18, 'Ester' : 67}\n",
        "\n",
        "\n",
        "#Creando la lista con los valores de la edad y acomodando\n",
        "edades = dict1.values()\n",
        "edades = sorted(edades)\n",
        "print(edades)\n",
        "\n",
        "#nombres\n",
        "for i in dict1:\n",
        "  print(i)\n",
        "\n",
        "#para añadir\n",
        "dict1['Dana'] = '25'\n",
        "dict1['Paola'] = '34'"
      ],
      "execution_count": null,
      "outputs": []
    }
  ]
}