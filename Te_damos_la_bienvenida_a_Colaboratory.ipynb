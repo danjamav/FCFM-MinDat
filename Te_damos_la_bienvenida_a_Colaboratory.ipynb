{
  "nbformat": 4,
  "nbformat_minor": 0,
  "metadata": {
    "colab": {
      "name": "Te damos la bienvenida a Colaboratory",
      "provenance": [],
      "collapsed_sections": [],
      "include_colab_link": true
    },
    "kernelspec": {
      "display_name": "Python 3",
      "name": "python3"
    }
  },
  "cells": [
    {
      "cell_type": "markdown",
      "metadata": {
        "id": "view-in-github",
        "colab_type": "text"
      },
      "source": [
        "<a href=\"https://colab.research.google.com/github/danjamav/FCFM-MinDat/blob/main/Te_damos_la_bienvenida_a_Colaboratory.ipynb\" target=\"_parent\"><img src=\"https://colab.research.google.com/assets/colab-badge.svg\" alt=\"Open In Colab\"/></a>"
      ]
    },
    {
      "cell_type": "markdown",
      "metadata": {
        "id": "azU5qbcQyxBa"
      },
      "source": [
        "*EJ 1*\n",
        "Realiza una variable con tu matricula y realiza una secuencia de imprimir con tu nombre y tu matricula concatenados\n",
        "\n"
      ]
    },
    {
      "cell_type": "code",
      "metadata": {
        "id": "TjYfjDmJzvpm"
      },
      "source": [
        "matricula = 1872137 #Matricula \n",
        "print(\"Daniel Martinez\", matricula)  "
      ],
      "execution_count": null,
      "outputs": []
    },
    {
      "cell_type": "markdown",
      "metadata": {
        "id": "-WHj8NlH0CZW"
      },
      "source": [
        "*EJ 2* \n",
        "Pidiendo el imput del usuario pide dos números y crea una pequeña calculadora con los operadores básicos de suma, resta, multiplicación, división y exponente. Utilizando el loop de while"
      ]
    },
    {
      "cell_type": "code",
      "metadata": {
        "id": "XnxkQBNs0JBG",
        "outputId": "7781f666-c3fb-4b43-92e9-492ca8e37fe4",
        "colab": {
          "base_uri": "https://localhost:8080/"
        }
      },
      "source": [
        "i = 1\n",
        "while i == 1: #aqui empieza el loop\n",
        "  a = int(input(\"introduce un número a: \")) #Pedimos el número a\n",
        "  b = int(input(\"introduce un número b: \")) #Pedimos el número b\n",
        "  print(\"1- Suma 2- Resta 3- Multiplicacion 4- División 5- Exponente \") \n",
        "  c = int(input(\"Elige la opción deseada: \")) \n",
        "  \n",
        "  #Comienza condicional para realizar la operación deseada\n",
        "  if c == 1: \n",
        "    d = a+b\n",
        "    print(\"El resultado de la suma es: \",d)\n",
        "  elif c == 2: \n",
        "    d = a-b\n",
        "    print(\"El resultado de la resta es: \",d)\n",
        "  elif c == 3: \n",
        "    d = a*b\n",
        "    print(\"El resultado de la multiplicación es: \",d)\n",
        "  elif c == 4:\n",
        "    d = a/b\n",
        "    print(\"El resultado de la división es: \",d)\n",
        "  else: \n",
        "    d = a**b\n",
        "    print(\"El resultado de la exponencial es: \",d)\n",
        "  #Fin condicional\n",
        "\n",
        "  print(\"¿Deseas volver a hacer una operacion?\") \n",
        "  print(\"1- Si 2- No\")  \n",
        "  i = int(input(\"Respuesta: \")) "
      ],
      "execution_count": 9,
      "outputs": [
        {
          "output_type": "stream",
          "text": [
            "introduce un número a: 3\n",
            "introduce un número b: 3\n",
            "1- Suma 2- Resta 3- Multiplicacion 4- División 5- Exponente \n",
            "Elige la opción deseada: 3\n",
            "El resultado de la multiplicación es:  9\n",
            "¿Deseas volver a hacer una operacion?\n",
            "1- Si 2- No\n",
            "Respuesta: 2\n"
          ],
          "name": "stdout"
        }
      ]
    },
    {
      "cell_type": "markdown",
      "metadata": {
        "id": "nmhsOimv2-aV"
      },
      "source": [
        "*EJ 3* Con loop while o for, realiza una lista de 10 números multiplos de 3, y después realiza una función de loop que sume todos los números dentro del arreglo\n"
      ]
    },
    {
      "cell_type": "code",
      "metadata": {
        "id": "VkW7SZXO3DoN",
        "outputId": "a958727d-8f2b-46ac-b991-7d790a27a06f",
        "colab": {
          "base_uri": "https://localhost:8080/"
        }
      },
      "source": [
        "i = 1 \n",
        "list1 = [] \n",
        "\n",
        "while i <= 10: \n",
        "  z = 3*i\n",
        "  list1.append(z)\n",
        "  i = i+1 #Incremento de i\n",
        "\n",
        "i = 0 #Regresamos a i inicial\n",
        "while i < 10: \n",
        "  #Validamos la primer vuelta del loop\n",
        "  if i == 0: \n",
        "    a = list1[0]\n",
        "  else: \n",
        "    a = a + list1[i]\n",
        "  i = i + 1 #Incrementamos i\n",
        "\n",
        "print(\"La suma de los multiplos fue: \",a)"
      ],
      "execution_count": 8,
      "outputs": [
        {
          "output_type": "stream",
          "text": [
            "La suma de los multiplos fue:  165\n"
          ],
          "name": "stdout"
        }
      ]
    },
    {
      "cell_type": "markdown",
      "metadata": {
        "id": "-x60V2sB4QJf"
      },
      "source": [
        "*EJ 4* \n",
        "->Con una función de if else revisar si un número es par o impar\n",
        "\n",
        "->Con una función de if else revisar si un número es primo o no"
      ]
    },
    {
      "cell_type": "code",
      "metadata": {
        "id": "K87uk7Zz4Yih",
        "outputId": "27b65a41-5a72-4c09-cebf-a15d629542d2",
        "colab": {
          "base_uri": "https://localhost:8080/"
        }
      },
      "source": [
        "a = int(input(\"Número a revisar: \")) \n",
        "\n",
        "z = x%2 #validar que sea par\n",
        "if z == 0: #Condicional de número par\n",
        "  print(a,\"es numero par\")\n",
        "else:\n",
        "  print(a,\"no es numero par\")\n",
        "\n",
        "b=0  \n",
        "for n in range(2,a): \n",
        "  if x%n == 0: #Vemos si el número es primo o no\n",
        "    b= 1 # 1 =  número no primo\n",
        "\n",
        "# imprimir\n",
        "if b == 0:\n",
        "  print(a,\"es un numero primo\")\n",
        "else:\n",
        "  print(a,\"no es un numero primo\")"
      ],
      "execution_count": 10,
      "outputs": [
        {
          "output_type": "stream",
          "text": [
            "Número a revisar: 3\n",
            "El número 3 no es par\n",
            "El número 3 es primo\n"
          ],
          "name": "stdout"
        }
      ]
    },
    {
      "cell_type": "markdown",
      "metadata": {
        "id": "DTJ5HoKS6OLl"
      },
      "source": [
        "# *Tuplas*\n",
        "Crear una variable flotante, integer, boleana y compleja e imprimir el tipo de variable que es.\n",
        "Crear una tupla con valores enteros imprimir el primer y ultimo valor.\n",
        "Añadir 3 valores de string a la tupla.\n",
        "Verificar si una variable existe dentro de la tupla."
      ]
    },
    {
      "cell_type": "code",
      "metadata": {
        "id": "pR_zmHQd6TDy",
        "outputId": "3ae4c641-de25-42bb-b6f4-09946631ac03",
        "colab": {
          "base_uri": "https://localhost:8080/"
        }
      },
      "source": [
        "\n",
        "a = 3\n",
        "b = 3.2\n",
        "c = False\n",
        "d = complex(b,a)\n",
        "\n",
        "#tipo de variable\n",
        "print(\"A es:\",type(a))\n",
        "print(\"B es:\",type(b))\n",
        "print(\"C es:\",type(c))\n",
        "print(\"D es:\",type(d))\n",
        "\n",
        "# Creando la tupla\n",
        "t1 = (1,2,3,4,5)\n",
        "#Imprimiendo el primer y el ultimo valor\n",
        "print(\"Primer valor:\",t1[0])\n",
        "print(\"Último valor:\",t1[-1])\n",
        "\n",
        "#Agregando strings a la tupla\n",
        "t1 = t1.__add__((\"Hola\",\"Mundo\",\"Estrella\"))\n",
        "\n",
        "#Verificando si un valor existe en la dupla\n",
        "a1 = int(input(\"Valor a verificar: \")) #Pedimos el valor\n",
        "#Condicional a1 en la tupla\n",
        "if a1 in t1: \n",
        "  print(\"El valor\",a1,\"si esta en la tupla\")\n",
        "else:\n",
        "  print(\"El valor\",a1,\"no esta en la tupla\")"
      ],
      "execution_count": 11,
      "outputs": [
        {
          "output_type": "stream",
          "text": [
            "A es: <class 'int'>\n",
            "B es: <class 'float'>\n",
            "C es: <class 'bool'>\n",
            "D es: <class 'complex'>\n",
            "Primer valor: 1\n",
            "Último valor: 5\n",
            "Valor a verificar: 3\n",
            "El valor 3 si esta en la tupla\n"
          ],
          "name": "stdout"
        }
      ]
    },
    {
      "cell_type": "markdown",
      "metadata": {
        "id": "7TPkrwRt7icF"
      },
      "source": [
        "# *Listas*\n",
        "Crear una lista con 40 elementos aleatorios enteros.\n",
        "Con una funcion (def) crear dos listas nuevas a partir de la lista creada por numeros aleatorios, en la cual en una esten los elementos pares, y en la otra los elementos impares.\n",
        "Crear dos variables con la longitud de ambas listas nuevas e imprimir las variables.\n",
        "Ordenar los elementos de la lista par de mayor a menor, y los de la lista impar de menor a mayor.\n",
        "Utilizar al menos cuatro de las funciones de listas en python en la lista original de 40 elementos."
      ]
    },
    {
      "cell_type": "code",
      "metadata": {
        "id": "2G-mZl0G8HSH",
        "outputId": "122857a2-8e4d-4a04-e38c-e43ff9fb0de0",
        "colab": {
          "base_uri": "https://localhost:8080/"
        }
      },
      "source": [
        "#Creación de la lista aleatoria\n",
        "import random #Importamos la biblioteca random https://www.mclibre.org/consultar/python/lecciones/python-biblioteca-random.html\n",
        "list2 =[]\n",
        "for a in range(0,40):\n",
        "  list2.append(random.randrange(10))\n",
        "\n",
        "#Creando las dos listas nuevas https://entrenamiento-python-basico.readthedocs.io/es/latest/leccion5/funciones.html\n",
        "def separacion(s): #Creando la función\n",
        "  pares = [] #lista donde van a ir los pares\n",
        "  impares = [] #lista donde van a ir los impares\n",
        "  for a in s: #validar los pares e impares de la lista\n",
        "    if a%2 == 0: #Condición par\n",
        "      pares.append(a)\n",
        "    else: #Impar\n",
        "      impares.append(a)\n",
        "  print(pares) #Imprimimos lista con pares\n",
        "  print(impares) #Imprimimos lista con impares\n",
        "  #Imprimiendo la longitud de las listas nuevas http://elclubdelautodidacta.es/wp/2011/08/python-capitulo-14-el-total-de-elementos-de-una-lista/\n",
        "  b = len(pares)\n",
        "  c = len(impares)\n",
        "  print(\"Longitud lista pares:\",b)\n",
        "  print(\"Longitud lista impares:\",c)  \n",
        "  #Acomodando los valores de las listas https://j2logo.com/python/ordenar-una-lista-en-python/\n",
        "  pares1 = sorted(pares, reverse=True)\n",
        "  impares1 = sorted(impares)\n",
        "  print(pares1)\n",
        "  print(impares1)\n",
        "\n",
        "separacion(list2)\n",
        "#Utilizando funciones de lista en la lista original\n",
        "list2.append(3)\n",
        "list2.reverse()\n",
        "list2.pop()\n",
        "list2.sort()"
      ],
      "execution_count": 12,
      "outputs": [
        {
          "output_type": "stream",
          "text": [
            "[6, 0, 2, 2, 6, 8, 6, 8, 0, 4, 8, 6, 8, 0, 4, 0, 4, 0, 6, 0, 4, 6]\n",
            "[1, 3, 7, 1, 1, 1, 9, 3, 3, 1, 5, 1, 1, 9, 5, 1, 7, 7]\n",
            "Longitud lista pares: 22\n",
            "Longitud lista impares: 18\n",
            "[8, 8, 8, 8, 6, 6, 6, 6, 6, 6, 4, 4, 4, 4, 2, 2, 0, 0, 0, 0, 0, 0]\n",
            "[1, 1, 1, 1, 1, 1, 1, 1, 3, 3, 3, 5, 5, 7, 7, 7, 9, 9]\n"
          ],
          "name": "stdout"
        }
      ]
    },
    {
      "cell_type": "markdown",
      "metadata": {
        "id": "37nl-3Ru9n2X"
      },
      "source": [
        "# *Diccionarios*\n",
        "Crear un diccionario de 6 personas que conozcas con su primer nombre y su edad.\n",
        "Crear una lista con los valores de la edad y reacomodar la lista de menor a mayor valor.\n",
        "Usando el diccionario y un loop, imprimir solo los nombres.\n",
        "Añadir dos personas nuevas a tu diccionario, incluyendo edad."
      ]
    },
    {
      "cell_type": "code",
      "metadata": {
        "id": "0x096sTM9sG4",
        "outputId": "86e8c760-9b94-4aa4-adec-1bcbb7f0ce78",
        "colab": {
          "base_uri": "https://localhost:8080/"
        }
      },
      "source": [
        "#Creando el diccionario\n",
        "dict1 = {'Daniel' : 20, 'Juan' : 32, 'Edgar' : 32, 'Jose' : 33, 'Hania' : 18, 'Ester' : 67}\n",
        "\n",
        "\n",
        "#Creando la lista con los valores de la edad y acomodando\n",
        "edades = dict1.values()\n",
        "edades = sorted(edades)\n",
        "print(edades)\n",
        "\n",
        "#nombres\n",
        "for i in dict1:\n",
        "  print(i)\n",
        "\n",
        "#para añadir\n",
        "dict1['Dana'] = '25'\n",
        "dict1['Paola'] = '34'"
      ],
      "execution_count": 13,
      "outputs": [
        {
          "output_type": "stream",
          "text": [
            "[18, 20, 32, 32, 33, 67]\n",
            "Daniel\n",
            "Juan\n",
            "Edgar\n",
            "Jose\n",
            "Hania\n",
            "Ester\n"
          ],
          "name": "stdout"
        }
      ]
    }
  ]
}